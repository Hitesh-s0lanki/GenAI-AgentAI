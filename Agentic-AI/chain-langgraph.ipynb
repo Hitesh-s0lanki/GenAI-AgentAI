{
 "cells": [
  {
   "cell_type": "code",
   "execution_count": 18,
   "id": "2ac98d6a",
   "metadata": {},
   "outputs": [],
   "source": [
    "import os\n",
    "from dotenv import load_dotenv\n",
    "\n",
    "load_dotenv()\n",
    "\n",
    "os.environ['OPENAI_API_KEY'] = os.getenv(\"OPENAI_API_KEY\")"
   ]
  },
  {
   "cell_type": "code",
   "execution_count": 19,
   "id": "b2ad00f0",
   "metadata": {},
   "outputs": [],
   "source": [
    "from langchain_core.messages import AIMessage, HumanMessage\n",
    "from pprint import PrettyPrinter\n",
    "\n",
    "messages = [\n",
    "    AIMessage(content=f\"Please tell me how can I help\", name=\"LLMModel\"),\n",
    "    HumanMessage(content=f\"I want to learn coding\", name=\"Hitesh\")\n",
    "]\n",
    "\n",
    "# messages.append(AIMessage(content=f\"Which programming langauge you want to learn\", name=\"LLMModel\"))"
   ]
  },
  {
   "cell_type": "code",
   "execution_count": 20,
   "id": "78ec4172",
   "metadata": {},
   "outputs": [
    {
     "name": "stdout",
     "output_type": "stream",
     "text": [
      "==================================\u001b[1m Ai Message \u001b[0m==================================\n",
      "Name: LLMModel\n",
      "\n",
      "Please tell me how can I help\n",
      "================================\u001b[1m Human Message \u001b[0m=================================\n",
      "Name: Hitesh\n",
      "\n",
      "I want to learn coding\n"
     ]
    }
   ],
   "source": [
    "for message in messages:\n",
    "    message.pretty_print()"
   ]
  },
  {
   "cell_type": "code",
   "execution_count": 21,
   "id": "3f1679e4",
   "metadata": {},
   "outputs": [],
   "source": [
    "## Chat Model\n",
    "from langchain_openai import ChatOpenAI\n",
    "\n",
    "model = ChatOpenAI(model=\"gpt-4o\")"
   ]
  },
  {
   "cell_type": "code",
   "execution_count": 22,
   "id": "eaa6689f",
   "metadata": {},
   "outputs": [
    {
     "data": {
      "text/plain": [
       "AIMessage(content=\"That's great! Learning to code can be a rewarding skill and can open up many opportunities. Here’s a step-by-step guide to help you get started:\\n\\n1. **Choose a Programming Language:**\\n   - **Beginner-Friendly:** Python is highly recommended for beginners due to its simplicity and readability.\\n   - **Web Development:** HTML/CSS (for structure and design) and JavaScript (for interactive elements).\\n   - **Mobile Development:** Swift for iOS, Java/Kotlin for Android.\\n   - **Data Science:** Python and R are popular choices.\\n   - Focus on one language to start with, then diversify as needed.\\n\\n2. **Set Up Your Environment:**\\n   - Download and install a code editor or Integrated Development Environment (IDE) like VSCode, PyCharm, or Jupyter Notebook for Python.\\n   - Ensure you have the necessary software installed (e.g., Python from python.org if you choose it as your language).\\n\\n3. **Learn the Basics:**\\n   - Understand basic programming concepts such as variables, data types, loops, conditionals, and functions.\\n   - Use online platforms like Codecademy, freeCodeCamp, Coursera, or edX which offer structured courses.\\n\\n4. **Practice Regularly:**\\n   - Consistent practice is key. Try to code every day, even if only for a short period.\\n   - Solve coding problems on websites such as LeetCode, HackerRank, or Codewars to build logic and problem-solving skills.\\n\\n5. **Build Projects:**\\n   - Start small with projects that interest you. This could be something simple like a calculator app, a personal website, or exploring data with Python.\\n   - Projects will help solidify what you've learned and give you something tangible to demonstrate your skills.\\n\\n6. **Join a Community:**\\n   - Becoming part of a coding community can be very beneficial. Websites like Stack Overflow, Reddit (e.g., r/learnprogramming), or dedicated Discord servers can offer support and feedback.\\n\\n7. **Explore Advanced Topics:**\\n   - Once you're comfortable with the basics, explore more advanced topics like object-oriented programming, algorithms, data structures, or frameworks specific to your interest areas (e.g., Django for Python web development).\\n\\n8. **Keep Learning:**\\n   - Technology is always evolving, so stay curious and keep learning new languages, tools, and technologies as you progress.\\n\\nRemember, programming can sometimes be challenging, but persistence is key. Don't hesitate to ask for help when you're stuck, and most importantly, have fun with the process!\", additional_kwargs={'refusal': None}, response_metadata={'token_usage': {'completion_tokens': 518, 'prompt_tokens': 30, 'total_tokens': 548, 'completion_tokens_details': {'accepted_prediction_tokens': 0, 'audio_tokens': 0, 'reasoning_tokens': 0, 'rejected_prediction_tokens': 0}, 'prompt_tokens_details': {'audio_tokens': 0, 'cached_tokens': 0}}, 'model_name': 'gpt-4o-2024-08-06', 'system_fingerprint': 'fp_a288987b44', 'id': 'chatcmpl-BcToUldSm83R5oZG97IhwbKMBkt4R', 'service_tier': 'default', 'finish_reason': 'stop', 'logprobs': None}, id='run--425ff215-1371-47b8-9a2a-932fd07bd3e6-0', usage_metadata={'input_tokens': 30, 'output_tokens': 518, 'total_tokens': 548, 'input_token_details': {'audio': 0, 'cache_read': 0}, 'output_token_details': {'audio': 0, 'reasoning': 0}})"
      ]
     },
     "execution_count": 22,
     "metadata": {},
     "output_type": "execute_result"
    }
   ],
   "source": [
    "model.invoke(messages)"
   ]
  },
  {
   "cell_type": "markdown",
   "id": "a3f19719",
   "metadata": {},
   "source": [
    "### Tools "
   ]
  },
  {
   "cell_type": "code",
   "execution_count": 23,
   "id": "b190862d",
   "metadata": {},
   "outputs": [],
   "source": [
    "## Creating the tools \n",
    "def add(a:int,b:int) -> int:\n",
    "    \"\"\"Add a and b together\n",
    "    \n",
    "    Args:\n",
    "        a: int\n",
    "        b: int\n",
    "        \n",
    "    Returns:\n",
    "        int: The sum of a and b\n",
    "    \"\"\"\n",
    "    return a + b"
   ]
  },
  {
   "cell_type": "code",
   "execution_count": 24,
   "id": "a33c2f9b",
   "metadata": {},
   "outputs": [],
   "source": [
    "## Binding the tools to the model \n",
    "llm_with_tools = model.bind_tools([add])"
   ]
  },
  {
   "cell_type": "code",
   "execution_count": 25,
   "id": "85d41cdc",
   "metadata": {},
   "outputs": [],
   "source": [
    "response = llm_with_tools.invoke([\n",
    "    HumanMessage(content=f\"What is 2 + 2?\", name=\"Hitesh\")\n",
    "])"
   ]
  },
  {
   "cell_type": "code",
   "execution_count": 26,
   "id": "27d601f2",
   "metadata": {},
   "outputs": [
    {
     "data": {
      "text/plain": [
       "AIMessage(content='', additional_kwargs={'tool_calls': [{'id': 'call_tADImLwRu2xuVAu80mLVGTvN', 'function': {'arguments': '{\"a\":2,\"b\":2}', 'name': 'add'}, 'type': 'function'}], 'refusal': None}, response_metadata={'token_usage': {'completion_tokens': 17, 'prompt_tokens': 62, 'total_tokens': 79, 'completion_tokens_details': {'accepted_prediction_tokens': 0, 'audio_tokens': 0, 'reasoning_tokens': 0, 'rejected_prediction_tokens': 0}, 'prompt_tokens_details': {'audio_tokens': 0, 'cached_tokens': 0}}, 'model_name': 'gpt-4o-2024-08-06', 'system_fingerprint': 'fp_a288987b44', 'id': 'chatcmpl-BcToeFxmP4KG3QcYwMXbiEJsq4dA0', 'service_tier': 'default', 'finish_reason': 'tool_calls', 'logprobs': None}, id='run--0ef47f97-c16b-4756-a374-b4f7ac61dfb0-0', tool_calls=[{'name': 'add', 'args': {'a': 2, 'b': 2}, 'id': 'call_tADImLwRu2xuVAu80mLVGTvN', 'type': 'tool_call'}], usage_metadata={'input_tokens': 62, 'output_tokens': 17, 'total_tokens': 79, 'input_token_details': {'audio': 0, 'cache_read': 0}, 'output_token_details': {'audio': 0, 'reasoning': 0}})"
      ]
     },
     "execution_count": 26,
     "metadata": {},
     "output_type": "execute_result"
    }
   ],
   "source": [
    "response"
   ]
  },
  {
   "cell_type": "markdown",
   "id": "38d532a0",
   "metadata": {},
   "source": [
    "### Using message as state"
   ]
  },
  {
   "cell_type": "code",
   "execution_count": 27,
   "id": "8b3db79e",
   "metadata": {},
   "outputs": [],
   "source": [
    "from typing_extensions import TypedDict\n",
    "from langchain_core.messages import AnyMessage\n",
    "from langgraph.graph.message import add_messages\n",
    "from typing import Annotated\n",
    "\n",
    "class State(TypedDict):\n",
    "    messages: Annotated[list[AnyMessage], add_messages]\n"
   ]
  },
  {
   "cell_type": "markdown",
   "id": "1ae30c2b",
   "metadata": {},
   "source": [
    "### Reducer with add_messages"
   ]
  },
  {
   "cell_type": "code",
   "execution_count": 29,
   "id": "0ef1e99e",
   "metadata": {},
   "outputs": [],
   "source": [
    "initial_messages = [\n",
    "    AIMessage(content=f\"Please tell me how can I help\", name=\"LLMModel\"),\n",
    "    HumanMessage(content=f\"I want to learn coding\", name=\"Hitesh\")\n",
    "]\n"
   ]
  },
  {
   "cell_type": "code",
   "execution_count": 30,
   "id": "59dbc287",
   "metadata": {},
   "outputs": [],
   "source": [
    "ai_message = AIMessage(content=f\"Which programming langauge you want to learn\", name=\"LLMModel\")"
   ]
  },
  {
   "cell_type": "code",
   "execution_count": 32,
   "id": "1475e450",
   "metadata": {},
   "outputs": [
    {
     "data": {
      "text/plain": [
       "[AIMessage(content='Please tell me how can I help', additional_kwargs={}, response_metadata={}, name='LLMModel', id='1ba6ddba-f22e-4347-afe9-75c81e5f77fd'),\n",
       " HumanMessage(content='I want to learn coding', additional_kwargs={}, response_metadata={}, name='Hitesh', id='80bf9ee7-a329-4c4e-8b99-9729dc47e1e7'),\n",
       " AIMessage(content='Which programming langauge you want to learn', additional_kwargs={}, response_metadata={}, name='LLMModel', id='acb98101-db72-409c-b970-528f9f4d4364')]"
      ]
     },
     "execution_count": 32,
     "metadata": {},
     "output_type": "execute_result"
    }
   ],
   "source": [
    "### Reducers add_messages is to append the messages\n",
    "add_messages(initial_messages, ai_message)"
   ]
  },
  {
   "cell_type": "code",
   "execution_count": 33,
   "id": "5b25ebba",
   "metadata": {},
   "outputs": [],
   "source": [
    "def llm_tool(state: State) -> State:\n",
    "    response = llm_with_tools.invoke(state[\"messages\"])\n",
    "    return {\"messages\": [response]}\n"
   ]
  },
  {
   "cell_type": "code",
   "execution_count": 35,
   "id": "3f50a6ea",
   "metadata": {},
   "outputs": [
    {
     "data": {
      "image/png": "[encoded data removed]",
      "text/plain": [
       "<IPython.core.display.Image object>"
      ]
     },
     "metadata": {},
     "output_type": "display_data"
    }
   ],
   "source": [
    "from langgraph.graph import StateGraph, START, END\n",
    "from IPython.display import display, Image\n",
    "\n",
    "## Creating the graph\n",
    "graph = StateGraph(State)\n",
    "\n",
    "## Adding the nodes\n",
    "graph.add_node(\"llm_tool\", llm_tool)\n",
    "\n",
    "## Adding the edges\n",
    "graph.add_edge(START, \"llm_tool\")\n",
    "graph.add_edge(\"llm_tool\", END)\n",
    "\n",
    "## Running the graph\n",
    "graph_builder = graph.compile()\n",
    "\n",
    "# Displaying the graph\n",
    "display(Image(graph_builder.get_graph().draw_mermaid_png()))"
   ]
  },
  {
   "cell_type": "code",
   "execution_count": 36,
   "id": "2fd4f49b",
   "metadata": {},
   "outputs": [
    {
     "name": "stdout",
     "output_type": "stream",
     "text": [
      "================================\u001b[1m Human Message \u001b[0m=================================\n",
      "\n",
      "What is 2 + 2?\n",
      "==================================\u001b[1m Ai Message \u001b[0m==================================\n",
      "Tool Calls:\n",
      "  add (call_o9Ngy1f8wkVLDKRy3MTknnqi)\n",
      " Call ID: call_o9Ngy1f8wkVLDKRy3MTknnqi\n",
      "  Args:\n",
      "    a: 2\n",
      "    b: 2\n"
     ]
    }
   ],
   "source": [
    "## Running the graph\n",
    "messages = graph_builder.invoke({\"messages\": \"What is 2 + 2?\"})\n",
    "\n",
    "for message in messages[\"messages\"]:\n",
    "    message.pretty_print()\n"
   ]
  },
  {
   "cell_type": "code",
   "execution_count": 38,
   "id": "9531c28e",
   "metadata": {},
   "outputs": [],
   "source": [
    "tools=[add]"
   ]
  },
  {
   "cell_type": "code",
   "execution_count": 40,
   "id": "48d595a9",
   "metadata": {},
   "outputs": [
    {
     "data": {
      "image/png": "[encoded data removed]",
      "text/plain": [
       "<IPython.core.display.Image object>"
      ]
     },
     "metadata": {},
     "output_type": "display_data"
    }
   ],
   "source": [
    "from langgraph.graph import StateGraph, START, END\n",
    "from IPython.display import display, Image\n",
    "from langgraph.prebuilt import ToolNode, tools_condition\n",
    "\n",
    "## Creating the graph\n",
    "graph = StateGraph(State)\n",
    "\n",
    "## Adding the nodes\n",
    "graph.add_node(\"llm_tool\", llm_tool)\n",
    "graph.add_node(\"tools\", ToolNode(tools))\n",
    "\n",
    "## Adding the edges\n",
    "graph.add_edge(START, \"llm_tool\")\n",
    "graph.add_conditional_edges(\"llm_tool\", tools_condition)\n",
    "graph.add_edge(\"tools\", END)\n",
    "\n",
    "## Running the graph\n",
    "graph_builder = graph.compile()\n",
    "\n",
    "# Displaying the graph\n",
    "display(Image(graph_builder.get_graph().draw_mermaid_png()))"
   ]
  },
  {
   "cell_type": "code",
   "execution_count": 41,
   "id": "60eef58c",
   "metadata": {},
   "outputs": [
    {
     "name": "stdout",
     "output_type": "stream",
     "text": [
      "================================\u001b[1m Human Message \u001b[0m=================================\n",
      "\n",
      "What is 2 + 2?\n",
      "==================================\u001b[1m Ai Message \u001b[0m==================================\n",
      "Tool Calls:\n",
      "  add (call_Yyzk0YL0HHSeS0GD8XxkxTG4)\n",
      " Call ID: call_Yyzk0YL0HHSeS0GD8XxkxTG4\n",
      "  Args:\n",
      "    a: 2\n",
      "    b: 2\n",
      "=================================\u001b[1m Tool Message \u001b[0m=================================\n",
      "Name: add\n",
      "\n",
      "4\n"
     ]
    }
   ],
   "source": [
    "## Running the graph\n",
    "messages = graph_builder.invoke({\"messages\": \"What is 2 + 2?\"})\n",
    "\n",
    "for message in messages[\"messages\"]:\n",
    "    message.pretty_print()"
   ]
  },
  {
   "cell_type": "code",
   "execution_count": 42,
   "id": "1623b582",
   "metadata": {},
   "outputs": [
    {
     "name": "stdout",
     "output_type": "stream",
     "text": [
      "================================\u001b[1m Human Message \u001b[0m=================================\n",
      "\n",
      "What is machine learning?\n",
      "==================================\u001b[1m Ai Message \u001b[0m==================================\n",
      "\n",
      "Machine learning is a subset of artificial intelligence (AI) that involves the development of algorithms and statistical models that enable computers to perform tasks without explicit instructions. Instead of being programmed with a specific task, a machine learning model is trained using large amounts of data and algorithms that give it the ability to learn and improve over time. This process involves identifying patterns and making data-driven predictions or decisions.\n",
      "\n",
      "Key aspects of machine learning include:\n",
      "\n",
      "1. **Data Input**: Machine learning models require input data to learn from. The quality and quantity of this data can significantly affect the model's performance.\n",
      "\n",
      "2. **Algorithms**: Different algorithms and techniques are used to find patterns within the data. These can be supervised (with labeled data), unsupervised (for finding hidden structures in unlabeled data), or semi-supervised and reinforcement learning.\n",
      "\n",
      "3. **Training**: Involves feeding data into the machine learning model to enable it to learn from this data. This is where the model adjusts its parameters to minimize the difference between its predictions and the actual outcomes.\n",
      "\n",
      "4. **Prediction**: Once trained, the machine learning model can make predictions or decisions based on new, unseen data.\n",
      "\n",
      "5. **Evaluation and Validation**: The model's performance is assessed using separate data that was not used during the training stage to ensure its accuracy and reliability.\n",
      "\n",
      "Machine learning is widely used in various applications, including image and speech recognition, recommendation systems, natural language processing, medical diagnosis, and more.\n"
     ]
    }
   ],
   "source": [
    "## Running the graph\n",
    "messages = graph_builder.invoke({\"messages\": \"What is machine learning?\"})\n",
    "\n",
    "for message in messages[\"messages\"]:\n",
    "    message.pretty_print()"
   ]
  },
  {
   "cell_type": "code",
   "execution_count": null,
   "id": "3136994f",
   "metadata": {},
   "outputs": [],
   "source": []
  }
 ],
 "metadata": {
  "kernelspec": {
   "display_name": "Python 3",
   "language": "python",
   "name": "python3"
  },
  "language_info": {
   "codemirror_mode": {
    "name": "ipython",
    "version": 3
   },
   "file_extension": ".py",
   "mimetype": "text/x-python",
   "name": "python",
   "nbconvert_exporter": "python",
   "pygments_lexer": "ipython3",
   "version": "3.12.0"
  }
 },
 "nbformat": 4,
 "nbformat_minor": 5
}
