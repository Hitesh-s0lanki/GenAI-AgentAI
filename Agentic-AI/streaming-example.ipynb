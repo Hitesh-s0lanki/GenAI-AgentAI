{
 "cells": [
  {
   "cell_type": "markdown",
   "metadata": {},
   "source": [
    "### Streaming"
   ]
  },
  {
   "cell_type": "code",
   "execution_count": 1,
   "metadata": {},
   "outputs": [],
   "source": [
    "import os\n",
    "from dotenv import load_dotenv\n",
    "\n",
    "load_dotenv()\n",
    "\n",
    "os.environ['OPENAI_API_KEY'] = os.getenv(\"OPENAI_API_KEY\")"
   ]
  },
  {
   "cell_type": "code",
   "execution_count": 8,
   "metadata": {},
   "outputs": [],
   "source": [
    "from typing_extensions import TypedDict\n",
    "from typing import Annotated\n",
    "from langgraph.graph.message import add_messages\n",
    "from langchain_core.messages import AnyMessage, HumanMessage\n",
    "\n",
    "class State(TypedDict):\n",
    "    messages: Annotated[list[AnyMessage], add_messages]"
   ]
  },
  {
   "cell_type": "code",
   "execution_count": 4,
   "metadata": {},
   "outputs": [],
   "source": [
    "from langchain_openai import ChatOpenAI\n",
    "llm = ChatOpenAI(model=\"gpt-4o\")"
   ]
  },
  {
   "cell_type": "code",
   "execution_count": 5,
   "metadata": {},
   "outputs": [],
   "source": [
    "## Node Defining \n",
    "def tool_calling_llm(state:State):\n",
    "    response = llm.invoke(state[\"messages\"])\n",
    "    return {\"messages\":[response]} "
   ]
  },
  {
   "cell_type": "code",
   "execution_count": 7,
   "metadata": {},
   "outputs": [
    {
     "data": {
      "image/png": "[encoded data removed]",
      "text/plain": [
       "<IPython.core.display.Image object>"
      ]
     },
     "metadata": {},
     "output_type": "display_data"
    }
   ],
   "source": [
    "from langgraph.graph import StateGraph, START, END\n",
    "from IPython.display import Image, display\n",
    "from langgraph.checkpoint.memory import MemorySaver\n",
    "\n",
    "## In System memory\n",
    "memory = MemorySaver()\n",
    "\n",
    "## Creating the Graph\n",
    "graph = StateGraph(State)\n",
    "\n",
    "## Adding the Node\n",
    "graph.add_node(\"superBot\", tool_calling_llm)\n",
    "\n",
    "## Adding the Edges\n",
    "graph.add_edge(START, \"superBot\")\n",
    "graph.add_edge(\"superBot\", END)\n",
    "\n",
    "## Compile the Graph\n",
    "graph_builder = graph.compile(checkpointer=memory)\n",
    "\n",
    "# Displaying the graph\n",
    "display(Image(graph_builder.get_graph().draw_mermaid_png()))"
   ]
  },
  {
   "cell_type": "code",
   "execution_count": 10,
   "metadata": {},
   "outputs": [
    {
     "name": "stdout",
     "output_type": "stream",
     "text": [
      "{'superBot': {'messages': [AIMessage(content='Hi Hitesh! It’s great to meet someone who enjoys dancing. What styles of dance do you like, or are you trying out any new dance styles recently?', additional_kwargs={'refusal': None}, response_metadata={'token_usage': {'completion_tokens': 34, 'prompt_tokens': 58, 'total_tokens': 92, 'completion_tokens_details': {'accepted_prediction_tokens': 0, 'audio_tokens': 0, 'reasoning_tokens': 0, 'rejected_prediction_tokens': 0}, 'prompt_tokens_details': {'audio_tokens': 0, 'cached_tokens': 0}}, 'model_name': 'gpt-4o-2024-08-06', 'system_fingerprint': 'fp_07871e2ad8', 'id': 'chatcmpl-BcVa1OKOyJDL1TjSQvS2eWSNuXyRj', 'service_tier': 'default', 'finish_reason': 'stop', 'logprobs': None}, id='run--5ee9cc47-015b-415d-a5b7-f51008993c53-0', usage_metadata={'input_tokens': 58, 'output_tokens': 34, 'total_tokens': 92, 'input_token_details': {'audio': 0, 'cache_read': 0}, 'output_token_details': {'audio': 0, 'reasoning': 0}})]}}\n"
     ]
    }
   ],
   "source": [
    "## Specify the thread\n",
    "config = {\"configurable\":{\"thread_id\":\"1\"}}\n",
    "\n",
    "for chunk in graph_builder.stream({\"message\":\"Hi, my name is Hitesh and I like dancing.\"}, config, stream_mode=\"updates\"):\n",
    "    print(chunk)"
   ]
  },
  {
   "cell_type": "code",
   "execution_count": null,
   "metadata": {},
   "outputs": [],
   "source": [
    "## Specify the input\n",
    "messages = [HumanMessage(\"hi, my name is Hitesh and I like dancing.\")]\n",
    "messages = graph_builder.invoke({\"messages\": messages}, config=config)\n",
    "\n",
    "for message in messages[\"messages\"]:\n",
    "    message.pretty_print()"
   ]
  }
 ],
 "metadata": {
  "kernelspec": {
   "display_name": "Python 3",
   "language": "python",
   "name": "python3"
  },
  "language_info": {
   "codemirror_mode": {
    "name": "ipython",
    "version": 3
   },
   "file_extension": ".py",
   "mimetype": "text/x-python",
   "name": "python",
   "nbconvert_exporter": "python",
   "pygments_lexer": "ipython3",
   "version": "3.12.0"
  }
 },
 "nbformat": 4,
 "nbformat_minor": 2
}
