{
 "cells": [
  {
   "cell_type": "markdown",
   "id": "b61a0ac7",
   "metadata": {},
   "source": [
    "### Simple LLM powered Chatbot"
   ]
  },
  {
   "cell_type": "code",
   "execution_count": 1,
   "id": "f935b8a1",
   "metadata": {},
   "outputs": [],
   "source": [
    "from typing_extensions import TypedDict\n",
    "from langgraph.graph import StateGraph, START, END\n",
    "\n",
    "## Reducer\n",
    "from typing import Annotated\n",
    "from langgraph.graph.message import add_messages"
   ]
  },
  {
   "cell_type": "code",
   "execution_count": 2,
   "id": "0eb29c11",
   "metadata": {},
   "outputs": [],
   "source": [
    "class State(TypedDict):\n",
    "    messages: Annotated[list, add_messages]"
   ]
  },
  {
   "cell_type": "code",
   "execution_count": 4,
   "id": "e4b2ba18",
   "metadata": {},
   "outputs": [
    {
     "data": {
      "text/plain": [
       "True"
      ]
     },
     "execution_count": 4,
     "metadata": {},
     "output_type": "execute_result"
    }
   ],
   "source": [
    "import os \n",
    "from dotenv import load_dotenv\n",
    "\n",
    "load_dotenv()"
   ]
  },
  {
   "cell_type": "code",
   "execution_count": 5,
   "id": "e4847a13",
   "metadata": {},
   "outputs": [],
   "source": [
    "os.environ[\"OPENAI_API_KEY\"] = os.getenv(\"OPENAI_API_KEY\")\n",
    "os.environ[\"GROQ_API_KEY\"] = os.getenv(\"GROQ_API_KEY\")"
   ]
  },
  {
   "cell_type": "code",
   "execution_count": 6,
   "id": "37bad640",
   "metadata": {},
   "outputs": [],
   "source": [
    "from langchain_openai import ChatOpenAI\n",
    "llm = ChatOpenAI(model=\"gpt-4o\")"
   ]
  },
  {
   "cell_type": "code",
   "execution_count": 9,
   "id": "0ea754c5",
   "metadata": {},
   "outputs": [
    {
     "data": {
      "text/plain": [
       "AIMessage(content='Hello! 👋\\n\\nHow can I help you today? 😊\\n', additional_kwargs={}, response_metadata={'token_usage': {'completion_tokens': 15, 'prompt_tokens': 11, 'total_tokens': 26, 'completion_time': 0.027272727, 'prompt_time': 0.001917316, 'queue_time': 0.242776444, 'total_time': 0.029190043}, 'model_name': 'gemma2-9b-it', 'system_fingerprint': 'fp_10c08bf97d', 'finish_reason': 'stop', 'logprobs': None}, id='run--55c049b2-4811-4663-b2ef-75cae7d9ab6c-0', usage_metadata={'input_tokens': 11, 'output_tokens': 15, 'total_tokens': 26})"
      ]
     },
     "execution_count": 9,
     "metadata": {},
     "output_type": "execute_result"
    }
   ],
   "source": [
    "from langchain_groq import ChatGroq\n",
    "llm_groq = ChatGroq(model=\"gemma2-9b-it\")\n",
    "llm_groq.invoke(\"hello\")"
   ]
  },
  {
   "cell_type": "code",
   "execution_count": 10,
   "id": "94eb7ce0",
   "metadata": {},
   "outputs": [],
   "source": [
    "### Start with creating node\n",
    "\n",
    "def superbot(state:State):\n",
    "    return {\"messages\":[llm_groq.invoke(state['messages'])]}"
   ]
  },
  {
   "cell_type": "code",
   "execution_count": 11,
   "id": "176ce5ea",
   "metadata": {},
   "outputs": [
    {
     "data": {
      "image/png": "[encoded data removed]",
      "text/plain": [
       "<IPython.core.display.Image object>"
      ]
     },
     "metadata": {},
     "output_type": "display_data"
    }
   ],
   "source": [
    "## creating the Graph\n",
    "graph = StateGraph(State)\n",
    "\n",
    "## Adding the node\n",
    "graph.add_node(\"superbot\", superbot)\n",
    "\n",
    "## Adding the Edges\n",
    "graph.add_edge(START, \"superbot\")\n",
    "graph.add_edge(\"superbot\", END)\n",
    "\n",
    "## Building the Graph\n",
    "graph_builder = graph.compile()\n",
    "\n",
    "## Display the graph\n",
    "from IPython.display import Image, display\n",
    "display(Image(graph_builder.get_graph().draw_mermaid_png()))"
   ]
  },
  {
   "cell_type": "code",
   "execution_count": 12,
   "id": "eee14681",
   "metadata": {},
   "outputs": [
    {
     "data": {
      "text/plain": [
       "{'messages': [HumanMessage(content='hey my name is Hitesh, I like dancing.', additional_kwargs={}, response_metadata={}, id='5e5d8824-70e3-4348-95c5-e6c4b1732ad3'),\n",
       "  AIMessage(content=\"Hi Hitesh! It's nice to meet you. \\n\\nThat's great that you like dancing! What kind of dancing do you enjoy? 😊  \\n\\n\", additional_kwargs={}, response_metadata={'token_usage': {'completion_tokens': 37, 'prompt_tokens': 20, 'total_tokens': 57, 'completion_time': 0.067272727, 'prompt_time': 0.001993664, 'queue_time': 0.246056426, 'total_time': 0.069266391}, 'model_name': 'gemma2-9b-it', 'system_fingerprint': 'fp_10c08bf97d', 'finish_reason': 'stop', 'logprobs': None}, id='run--3131834c-79ae-4a40-8be4-7db5e4e50974-0', usage_metadata={'input_tokens': 20, 'output_tokens': 37, 'total_tokens': 57})]}"
      ]
     },
     "execution_count": 12,
     "metadata": {},
     "output_type": "execute_result"
    }
   ],
   "source": [
    "### Graph Invocation\n",
    "graph_builder.invoke({\"messages\":\"hey my name is Hitesh, I like dancing.\"})"
   ]
  },
  {
   "cell_type": "code",
   "execution_count": 13,
   "id": "9d33bc5d",
   "metadata": {},
   "outputs": [
    {
     "data": {
      "text/plain": [
       "{'messages': [HumanMessage(content='Tell me about my self ? ', additional_kwargs={}, response_metadata={}, id='5212621a-ef07-42c8-96c0-157702d516bf'),\n",
       "  AIMessage(content=\"As an AI, I don't have access to any personal information about you. To tell you about yourself, I need you to tell me!\\n\\nWhat would you like to share? For example, you could tell me about:\\n\\n* **Your hobbies and interests:** What do you like to do in your free time?\\n* **Your goals and aspirations:** What are you working towards?\\n* **Your favorite things:** What are some of your favorite books, movies, or songs?\\n* **Your personality traits:** What are some words that describe you?\\n\\n\\nThe more you tell me, the better I can understand you! 😊 \\n\\n\", additional_kwargs={}, response_metadata={'token_usage': {'completion_tokens': 135, 'prompt_tokens': 16, 'total_tokens': 151, 'completion_time': 0.245454545, 'prompt_time': 0.001917265, 'queue_time': 0.247163613, 'total_time': 0.24737181}, 'model_name': 'gemma2-9b-it', 'system_fingerprint': 'fp_10c08bf97d', 'finish_reason': 'stop', 'logprobs': None}, id='run--60553b10-26c9-4c87-842d-6f1a33bf9351-0', usage_metadata={'input_tokens': 16, 'output_tokens': 135, 'total_tokens': 151})]}"
      ]
     },
     "execution_count": 13,
     "metadata": {},
     "output_type": "execute_result"
    }
   ],
   "source": [
    "### Graph Invocation\n",
    "graph_builder.invoke({\"messages\":\"Tell me about my self ? \"})"
   ]
  },
  {
   "cell_type": "code",
   "execution_count": 14,
   "id": "d8fcb469",
   "metadata": {},
   "outputs": [
    {
     "name": "stdout",
     "output_type": "stream",
     "text": [
      "{'superbot': {'messages': [AIMessage(content=\"Hello Hitesh, it's nice to meet you!\\n\\nIs there anything I can help you with today?\\n\", additional_kwargs={}, response_metadata={'token_usage': {'completion_tokens': 26, 'prompt_tokens': 15, 'total_tokens': 41, 'completion_time': 0.047272727, 'prompt_time': 0.002906002, 'queue_time': 0.254332047, 'total_time': 0.050178729}, 'model_name': 'gemma2-9b-it', 'system_fingerprint': 'fp_10c08bf97d', 'finish_reason': 'stop', 'logprobs': None}, id='run--f54c62a4-4958-43f4-a389-e9b93325e926-0', usage_metadata={'input_tokens': 15, 'output_tokens': 26, 'total_tokens': 41})]}}\n"
     ]
    }
   ],
   "source": [
    "## Streaming the responses \n",
    "for event in graph_builder.stream({\"messages\":\"hello my name is Hitesh\"}):\n",
    "    print(event)"
   ]
  },
  {
   "cell_type": "code",
   "execution_count": null,
   "id": "93cbecfe",
   "metadata": {},
   "outputs": [],
   "source": []
  }
 ],
 "metadata": {
  "kernelspec": {
   "display_name": "Python 3",
   "language": "python",
   "name": "python3"
  },
  "language_info": {
   "codemirror_mode": {
    "name": "ipython",
    "version": 3
   },
   "file_extension": ".py",
   "mimetype": "text/x-python",
   "name": "python",
   "nbconvert_exporter": "python",
   "pygments_lexer": "ipython3",
   "version": "3.12.0"
  }
 },
 "nbformat": 4,
 "nbformat_minor": 5
}
