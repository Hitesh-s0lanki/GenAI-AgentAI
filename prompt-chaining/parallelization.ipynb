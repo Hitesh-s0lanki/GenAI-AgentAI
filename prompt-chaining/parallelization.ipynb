{
 "cells": [
  {
   "cell_type": "markdown",
   "metadata": {},
   "source": [
    "### Parallelization"
   ]
  },
  {
   "cell_type": "code",
   "execution_count": 1,
   "metadata": {},
   "outputs": [],
   "source": [
    "import os\n",
    "from dotenv import load_dotenv\n",
    "\n",
    "load_dotenv()\n",
    "\n",
    "os.environ['OPENAI_API_KEY'] = os.getenv(\"OPENAI_API_KEY\")\n",
    "os.environ['TAVILY_API_KEY'] = os.getenv(\"TAVILY_API_KEY\")\n",
    "\n",
    "### Langsmith tracking\n",
    "os.environ['LANGCHAIN_API_KEY'] = os.getenv(\"LANGCHAIN_API_KEY\")\n",
    "os.environ['LANGCHAIN_TRACING_V2'] = \"true\"\n",
    "os.environ['LANGCHAIN_PROJECT'] = os.getenv(\"LANGCHAIN_PROJECT\")"
   ]
  },
  {
   "cell_type": "code",
   "execution_count": 2,
   "metadata": {},
   "outputs": [],
   "source": [
    "### initialize the llm model\n",
    "from langchain_openai import ChatOpenAI\n",
    "llm = ChatOpenAI(model=\"gpt-4o\")"
   ]
  },
  {
   "cell_type": "code",
   "execution_count": 7,
   "metadata": {},
   "outputs": [],
   "source": [
    "from typing_extensions import TypedDict\n",
    "\n",
    "class State(TypedDict):\n",
    "    topic:str\n",
    "    characters:str\n",
    "    settings:str\n",
    "    premises:str\n",
    "    story_intro:str"
   ]
  },
  {
   "cell_type": "code",
   "execution_count": 8,
   "metadata": {},
   "outputs": [],
   "source": [
    "## Defining the nodes\n",
    "\n",
    "def generate_characters(state:State):\n",
    "    \"\"\"Generate character descriptions\"\"\"\n",
    "    msg = llm.invoke(f\"Create two character names and brief traits for a story about {state[\"topic\"]}\")\n",
    "    return {\"characters\": msg.content}\n",
    "\n",
    "\n",
    "def generate_setting(state:State):\n",
    "    \"\"\"Generate story setting\"\"\"\n",
    "    msg = llm.invoke(f\"Describe a vivid setting for a story about {state[\"topic\"]}\")\n",
    "    return {\"settings\": msg.content}\n",
    "\n",
    "\n",
    "def generate_premises(state:State):\n",
    "    \"\"\"Generate story premise\"\"\"\n",
    "    msg = llm.invoke(f\"Write a one-sentence plot premise for a story about {state[\"topic\"]}\")\n",
    "    return {\"premises\": msg.content}\n",
    "\n",
    "\n",
    "def combine_elements(state:State):\n",
    "    \"\"\"Combine characters, setting, and premise into an intro\"\"\"\n",
    "    msg = llm.invoke(\n",
    "        f\"write a short story introduction using these elements:\\n\"\n",
    "        f\"Characters: {state[\"characters\"]}\\n\"\n",
    "        f\"Setting: {state[\"settings\"]}\\n\"\n",
    "        f\"Premise: {state[\"premises\"]}\\n\"\n",
    "    )\n",
    "    return {\"story_intro\": msg.content}"
   ]
  },
  {
   "cell_type": "code",
   "execution_count": 9,
   "metadata": {},
   "outputs": [
    {
     "data": {
      "image/png": "[encoded data removed]",
      "text/plain": [
       "<IPython.core.display.Image object>"
      ]
     },
     "metadata": {},
     "output_type": "display_data"
    }
   ],
   "source": [
    "from langgraph.graph import StateGraph, START, END\n",
    "from IPython.display import Image, display\n",
    "\n",
    "## Creating the graph\n",
    "builder = StateGraph(State)\n",
    "\n",
    "## Adding the Node\n",
    "builder.add_node(\"character\", generate_characters)\n",
    "builder.add_node(\"setting\", generate_setting)\n",
    "builder.add_node(\"premise\", generate_premises)\n",
    "builder.add_node(\"combine\", combine_elements)\n",
    "\n",
    "## Adding the Edges\n",
    "builder.add_edge(START, \"character\")\n",
    "builder.add_edge(START, \"setting\")\n",
    "builder.add_edge(START, \"premise\")\n",
    "builder.add_edge(\"character\", \"combine\")\n",
    "builder.add_edge(\"setting\", \"combine\")\n",
    "builder.add_edge(\"premise\", \"combine\")\n",
    "builder.add_edge(\"combine\", END)\n",
    "\n",
    "## Compile the Graph\n",
    "graph_builder = builder.compile()\n",
    "\n",
    "## View the Graph\n",
    "display(Image(graph_builder.get_graph().draw_mermaid_png()))"
   ]
  },
  {
   "cell_type": "code",
   "execution_count": 10,
   "metadata": {},
   "outputs": [
    {
     "data": {
      "text/plain": [
       "{'topic': 'time travel',\n",
       " 'characters': '**Eleanor \"Ellie\" Whitley**  \\nEllie is a brilliant but somewhat eccentric theoretical physicist who has dedicated her life to the study of time travel. In her early thirties, she is fiercely intelligent, with a mind that races through possibilities and scenarios with unmatched speed. She has a mischievous streak and often sees the world as one big puzzle to solve. Her dark, curly hair is always a bit unkempt, and her round glasses perched on the tip of her nose give her the appearance of a modern-day Einstein. Beneath her playful exterior, Ellie is motivated by a personal quest to understand a family mystery that has haunted her for years.\\n\\n**Jonathan \"Jax\" Rigby**  \\nJax is a courageous and resourceful historian with a penchant for adventure. In his late twenties, he specializes in ancient civilizations and possesses a deep appreciation for the nuances of history. Known for his charismatic personality and quick wit, Jax is equally at ease deciphering ancient manuscripts as he is navigating social settings. His rugged good looks and easy smile often disarm those he meets, but underneath it all is a profound sense of duty to protect the fabric of history. When he encounters Ellie, he is initially skeptical of her time travel theories, but his natural curiosity and protective instincts soon draw him into her world.',\n",
       " 'settings': 'The air was charged with the faint hum of electricity as the Time Nexus Chamber buzzed with life at the heart of the Chronopolis, a sprawling city that existed simultaneously in past, present, and future. Dazzling skyscrapers pierced the horizon, their surfaces shimmering with an iridescent gleam that reflected the flowing currents of time. Streets spiraled in impossible loops, lined with retro-futuristic vehicles flickering in and out of existence as they traveled to different eras. \\n\\nThe sky was a kaleidoscope of swirling colors, where brilliant sunsets collided with twinkling stars and emerald auroras, all framing an enigmatic, ever-shifting clockwork moon. This celestial wonder was composed of countless interlocking gears and dials that spun softly, casting intricate shadows upon the city.\\n\\nIn the heart of the chamber, a vast, gleaming machine known as the ChronoSpire dominated the space. Its towering form was adorned with an array of luminous tubes and pulsating crystal oscillators that synchronized with the ceaseless tick-tock of a colossal pendulum. Each swing of this pendulum sent shimmering time-waves rippling through the room, warping the air with tangible echoes of different epochs.\\n\\nAround the Spire, temporal gateways flickered like distant thunderstorms, showing glimpses into other times: the prehistoric roar of dinosaurs echoing through lush jungles, the clang of swords in medieval marketplaces, and the silent, ghostly landscapes of the far future, where crystalline cities floated in the void.\\n\\nIn the margins of this peculiar city, the people bore the fashion of their favored times—a medley of Roman togas, Victorian gowns, space-age jumpsuits, and everything in between—creating a tapestry of history and future. Time travelers, identifiable by their anachronistic attire and the faint aura of displaced energy, exchanged stories and traded relics across market stalls that were as vibrant and varied as the timeline itself.\\n\\nThis is Chronopolis, where time is not linear but a malleable force, and every corner holds secrets of the past and whispers of the future, waiting to be explored by those daring enough to journey through its temporal tides.',\n",
       " 'premises': 'In a future where history is being systematically erased, a determined historian discovers time travel and embarks on a perilous journey to preserve the past before it vanishes completely.',\n",
       " 'story_intro': 'Eleanor \"Ellie\" Whitley stood in the shadow of the ChronoSpire, her eyes gleaming with a mixture of excitement and determination. The Time Nexus Chamber hummed around her, the air thick with the scent of ozone as temporal energies crackled and danced. It was a sound she had grown accustomed to, a symphony that to her mind, represented the infinite possibilities of time intricately woven into the fabric of reality.\\n\\nHer gaze flicked over the brilliant lights and swirling colors of Chronopolis outside the chamber\\'s arched windows. In the distance, the celestial clockwork moon, with its labyrinthine gears and dials, lorded over the city, marking the passage of moments like a divine sentinel. In this extraordinary city where past, present, and future collided and coalesced, Ellie felt at home.\\n\\nBut not even the allure of the time-bending metropolis could deter her from her quest. Somewhere in the myriad paths of history lay the answer to the mystery that had haunted her family for generations—a secret whispered through time, elusive yet tantalizingly close. She adjusted her round glasses, pushing them up the bridge of her nose with an absentminded motion, her thoughts already racing through the corridors of countless timelines.\\n\\nAs Ellie prepared to launch another experiment, the soft-footed arrival of someone behind her interrupted her reverie. Jonathan \"Jax\" Rigby entered the chamber with the confidence of a man who belonged in any era, his curiosity as palpable as his skepticism. His presence was a stark contrast to the austere ambiance of the chamber—a vibrant reality check amidst abstract theoretical pursuits.\\n\\nJax had heard tales of Ellie\\'s unconventional pursuits—and, though dubious of her time travel theories, he couldn\\'t deny the magnetic pull they seemed to exert on him. Perhaps it was the historian in him, yearning for stories untold and epochs yet unexplored. Or perhaps it was the spark in Ellie\\'s eyes, a challenge issued to the universe itself, which called him to be part of her unpredictable journey through time.\\n\\n\"You really believe this will work?\" Jax asked, his voice carrying both the weight of doubt and a hint of intrigue. He stood beside her, his rugged features softened by the kaleidoscope of the chamber\\'s ambient light.\\n\\nEllie grinned mischievously, the embodiment of playful defiance. \"Belief is just the first step, Jax. The rest,\" she gestured to the ChronoSpire, its machinery alive with purpose, \"is all about making the impossible possible. Are you ready to save history?\"\\n\\nJax didn\\'t reply immediately. Instead, he took a moment to marvel at the timewaves shimmering around them, and the tantalizing glimpses of epochs woven into their ripples. He had always been a protector of the past, and now that past threatened to dissolve into nothingness without intervention.\\n\\n\"Let\\'s make history, then,\" he finally replied, his voice firm with resolution.\\n\\nTogether, they would dive into the unknown depths of Chronopolis, wrestle with the treacherous currents of time, and cling to the vestiges of history before they disappeared forever into the void. In this city where the narrative of time itself was written and rewritten, Ellie and Jax were about to embark on an odyssey to preserve what many had thought lost, diving headfirst into the kaleidoscope of threats and wonders that lay beyond the temporal tides.'}"
      ]
     },
     "execution_count": 10,
     "metadata": {},
     "output_type": "execute_result"
    }
   ],
   "source": [
    "state = {\"topic\":\"time travel\"}\n",
    "result = graph_builder.invoke(state)\n",
    "result"
   ]
  },
  {
   "cell_type": "code",
   "execution_count": null,
   "metadata": {},
   "outputs": [],
   "source": []
  }
 ],
 "metadata": {
  "kernelspec": {
   "display_name": "Python 3",
   "language": "python",
   "name": "python3"
  },
  "language_info": {
   "codemirror_mode": {
    "name": "ipython",
    "version": 3
   },
   "file_extension": ".py",
   "mimetype": "text/x-python",
   "name": "python",
   "nbconvert_exporter": "python",
   "pygments_lexer": "ipython3",
   "version": "3.12.0"
  }
 },
 "nbformat": 4,
 "nbformat_minor": 2
}
