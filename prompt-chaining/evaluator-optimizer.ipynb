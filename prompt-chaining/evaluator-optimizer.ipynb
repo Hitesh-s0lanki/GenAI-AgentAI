{
 "cells": [
  {
   "cell_type": "code",
   "execution_count": 1,
   "metadata": {},
   "outputs": [],
   "source": [
    "import os\n",
    "from dotenv import load_dotenv\n",
    "\n",
    "load_dotenv()\n",
    "\n",
    "os.environ['OPENAI_API_KEY'] = os.getenv(\"OPENAI_API_KEY\")\n",
    "os.environ['TAVILY_API_KEY'] = os.getenv(\"TAVILY_API_KEY\")\n",
    "\n",
    "### Langsmith tracking\n",
    "os.environ['LANGCHAIN_API_KEY'] = os.getenv(\"LANGCHAIN_API_KEY\")\n",
    "os.environ['LANGCHAIN_TRACING_V2'] = \"true\"\n",
    "os.environ['LANGCHAIN_PROJECT'] = os.getenv(\"LANGCHAIN_PROJECT\")"
   ]
  },
  {
   "cell_type": "code",
   "execution_count": 2,
   "metadata": {},
   "outputs": [],
   "source": [
    "### initialize the llm model\n",
    "from langchain_openai import ChatOpenAI\n",
    "llm = ChatOpenAI(model=\"gpt-4o\")"
   ]
  },
  {
   "cell_type": "code",
   "execution_count": 9,
   "metadata": {},
   "outputs": [],
   "source": [
    "import operator\n",
    "from typing import Annotated, List\n",
    "from typing_extensions import TypedDict, Literal\n",
    "from pydantic import BaseModel, Field\n",
    "from langchain_core.messages import HumanMessage, SystemMessage"
   ]
  },
  {
   "cell_type": "code",
   "execution_count": 5,
   "metadata": {},
   "outputs": [],
   "source": [
    "# Graph State \n",
    "class State(TypedDict):\n",
    "    joke:str\n",
    "    topic: str\n",
    "    feedback: str\n",
    "    funny_or_not: str"
   ]
  },
  {
   "cell_type": "code",
   "execution_count": 10,
   "metadata": {},
   "outputs": [],
   "source": [
    "# Schema for structure output to use in evaluation\n",
    "class Feedback(BaseModel):\n",
    "    grade: Literal[\"funny\", \"not funny\"] = Field(description=\"Decide if the joke is funny or not.\")\n",
    "    feedback: str = Field(description=\"if the joke is not funny, provide feedback on how to improve it.\")"
   ]
  },
  {
   "cell_type": "code",
   "execution_count": 11,
   "metadata": {},
   "outputs": [],
   "source": [
    "# Augment the LLM with schema for structure output \n",
    "evaluator = llm.with_structured_output(Feedback)"
   ]
  },
  {
   "cell_type": "code",
   "execution_count": 13,
   "metadata": {},
   "outputs": [],
   "source": [
    "## Defining the Node\n",
    "\n",
    "def llm_call_generator(state:State):\n",
    "    \"\"\"LLM generates a joke\"\"\"\n",
    "\n",
    "    if state.get(\"feedback\"):\n",
    "        msg = llm.invoke(\n",
    "            f\"Write a joke about {state[\"topic\"]} but take into account the feedback: {state[\"feedback\"]}\"\n",
    "        )\n",
    "    else:\n",
    "        msg = llm.invoke(f\"Write a joke about {state[\"topic\"]}\")\n",
    "    return {\"joke\":msg.content}\n",
    "\n",
    "\n",
    "def llm_call_evaluator(state:State):\n",
    "    \"\"\"LLM evaluates the joke\"\"\"\n",
    "\n",
    "    grade = evaluator.invoke(f\"Grade the joke {state[\"joke\"]}\")\n",
    "    return {\"funny_or_not\": grade.grade, \"feedback\": grade.feedback}\n",
    "\n",
    "\n",
    "# Conditional edge function to route back to joke generator or end based upon feedback from the evalutor\n",
    "def route_joke(state:State):\n",
    "    \"\"\"Route back to joke generator or end based upon feedback from the evaluator\"\"\"\n",
    "\n",
    "    if state[\"funny_or_not\"] == \"funny\":\n",
    "        return \"Accepted\"\n",
    "    elif state[\"funny_or_not\"] == \"not funny\":\n",
    "        return \"Rejected + Feedback\""
   ]
  },
  {
   "cell_type": "code",
   "execution_count": 14,
   "metadata": {},
   "outputs": [
    {
     "data": {
      "image/png": "[encoded data removed]",
      "text/plain": [
       "<IPython.core.display.Image object>"
      ]
     },
     "metadata": {},
     "output_type": "display_data"
    }
   ],
   "source": [
    "from langgraph.graph import StateGraph, START, END\n",
    "from IPython.display import Image, display\n",
    "\n",
    "## Creating the graph\n",
    "builder = StateGraph(State)\n",
    "\n",
    "## Adding the Node\n",
    "builder.add_node(\"llm_call_generator\", llm_call_generator)\n",
    "builder.add_node(\"llm_call_evaluator\", llm_call_evaluator)\n",
    "\n",
    "## Adding the Edges\n",
    "builder.add_edge(START, \"llm_call_generator\")\n",
    "builder.add_edge(\"llm_call_generator\", \"llm_call_evaluator\")\n",
    "builder.add_conditional_edges(\n",
    "    \"llm_call_evaluator\", route_joke, {\n",
    "        \"Accepted\": END,\n",
    "        \"Rejected + Feedback\" : \"llm_call_generator\"\n",
    "    }\n",
    ")\n",
    "\n",
    "## Compile the Graph\n",
    "graph_builder = builder.compile()\n",
    "\n",
    "## View the Graph\n",
    "display(Image(graph_builder.get_graph().draw_mermaid_png()))"
   ]
  },
  {
   "cell_type": "code",
   "execution_count": 15,
   "metadata": {},
   "outputs": [
    {
     "data": {
      "text/plain": [
       "{'joke': 'Why did the math book look sad at the party?\\n\\nBecause it had too many \"problems,\" but thankfully it had a friend like you to help solve them!',\n",
       " 'topic': 'friend',\n",
       " 'feedback': \"This joke effectively uses a classic play on words, mixing a relatable emotion (being 'sad') with a mathematical pun ('problems'). The addition of a positive twist with 'a friend like you to help solve them' adds a heartwarming touch, enhancing its appeal.\",\n",
       " 'funny_or_not': 'funny'}"
      ]
     },
     "execution_count": 15,
     "metadata": {},
     "output_type": "execute_result"
    }
   ],
   "source": [
    "state = {\"topic\":\"friend\"}\n",
    "result = graph_builder.invoke(state)\n",
    "result"
   ]
  },
  {
   "cell_type": "code",
   "execution_count": null,
   "metadata": {},
   "outputs": [],
   "source": []
  }
 ],
 "metadata": {
  "kernelspec": {
   "display_name": "Python 3",
   "language": "python",
   "name": "python3"
  },
  "language_info": {
   "codemirror_mode": {
    "name": "ipython",
    "version": 3
   },
   "file_extension": ".py",
   "mimetype": "text/x-python",
   "name": "python",
   "nbconvert_exporter": "python",
   "pygments_lexer": "ipython3",
   "version": "3.12.0"
  }
 },
 "nbformat": 4,
 "nbformat_minor": 2
}
